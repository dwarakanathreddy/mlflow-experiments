{
 "cells": [
  {
   "cell_type": "code",
   "execution_count": 4,
   "id": "031c2a07-2815-4b8c-86c8-70753a4cd0dc",
   "metadata": {},
   "outputs": [
    {
     "ename": "NameError",
     "evalue": "name 'mae' is not defined",
     "output_type": "error",
     "traceback": [
      "\u001b[31m---------------------------------------------------------------------------\u001b[39m",
      "\u001b[31mNameError\u001b[39m                                 Traceback (most recent call last)",
      "\u001b[36mCell\u001b[39m\u001b[36m \u001b[39m\u001b[32mIn[4]\u001b[39m\u001b[32m, line 22\u001b[39m\n\u001b[32m     12\u001b[39m artifact_path = \u001b[33m\"\u001b[39m\u001b[33mrf_apples\u001b[39m\u001b[33m\"\u001b[39m\n\u001b[32m     13\u001b[39m params = {\n\u001b[32m     14\u001b[39m     \u001b[33m\"\u001b[39m\u001b[33mn_estimators\u001b[39m\u001b[33m\"\u001b[39m: \u001b[32m100\u001b[39m,\n\u001b[32m     15\u001b[39m     \u001b[33m\"\u001b[39m\u001b[33mmax_depth\u001b[39m\u001b[33m\"\u001b[39m: \u001b[32m6\u001b[39m,\n\u001b[32m   (...)\u001b[39m\u001b[32m     20\u001b[39m     \u001b[33m\"\u001b[39m\u001b[33mrandom_state\u001b[39m\u001b[33m\"\u001b[39m: \u001b[32m888\u001b[39m,\n\u001b[32m     21\u001b[39m }\n\u001b[32m---> \u001b[39m\u001b[32m22\u001b[39m metrics = {\u001b[33m\"\u001b[39m\u001b[33mmae\u001b[39m\u001b[33m\"\u001b[39m: \u001b[43mmae\u001b[49m, \u001b[33m\"\u001b[39m\u001b[33mmse\u001b[39m\u001b[33m\"\u001b[39m: mse, \u001b[33m\"\u001b[39m\u001b[33mrmse\u001b[39m\u001b[33m\"\u001b[39m: rmse, \u001b[33m\"\u001b[39m\u001b[33mr2\u001b[39m\u001b[33m\"\u001b[39m: r2}\n\u001b[32m     24\u001b[39m \u001b[38;5;28;01mwith\u001b[39;00m mlflow.start_run(run_name=\u001b[33m\"\u001b[39m\u001b[33mapples_rf_test\u001b[39m\u001b[33m\"\u001b[39m) \u001b[38;5;28;01mas\u001b[39;00m run:\n\u001b[32m     25\u001b[39m     mlflow.log_params(params)\n",
      "\u001b[31mNameError\u001b[39m: name 'mae' is not defined"
     ]
    }
   ],
   "source": [
    "import mlflow\n",
    "import mlflow.sklearn\n",
    "import os\n",
    "\n",
    "# Ensure MLflow stores runs locally in a visible location\n",
    "tracking_dir = os.path.abspath(\"mlruns\")\n",
    "mlflow.set_tracking_uri(f\"file:{tracking_dir}\")\n",
    "\n",
    "# Create or set experiment\n",
    "mlflow.set_experiment(\"Apple_Models\")\n",
    "\n",
    "artifact_path = \"rf_apples\"\n",
    "params = {\n",
    "    \"n_estimators\": 100,\n",
    "    \"max_depth\": 6,\n",
    "    \"min_samples_split\": 10,\n",
    "    \"min_samples_leaf\": 4,\n",
    "    \"bootstrap\": True,\n",
    "    \"oob_score\": False,\n",
    "    \"random_state\": 888,\n",
    "}\n",
    "# Calculate error metrics\n",
    "mae = mean_absolute_error(y_val, y_pred)\n",
    "mse = mean_squared_error(y_val, y_pred)\n",
    "rmse = np.sqrt(mse)\n",
    "r2 = r2_score(y_val, y_pred)\n",
    "metrics = {\"mae\": mae, \"mse\": mse, \"rmse\": rmse, \"r2\": r2}\n",
    "\n",
    "with mlflow.start_run(run_name=\"apples_rf_test\") as run:\n",
    "    mlflow.log_params(params)\n",
    "    mlflow.log_metrics(metrics)\n",
    "    mlflow.sklearn.log_model(\n",
    "        sk_model=rf,\n",
    "        input_example=X_val,\n",
    "        artifact_path=artifact_path   # ✅ note: use artifact_path, not name\n",
    "    )\n",
    "\n",
    "print(\"Run ID:\", run.info.run_id)\n",
    "print(\"Artifacts stored in:\", tracking_dir)\n"
   ]
  },
  {
   "cell_type": "code",
   "execution_count": null,
   "id": "ede8629a-8208-40e9-808a-6cc03c040c29",
   "metadata": {},
   "outputs": [],
   "source": []
  }
 ],
 "metadata": {
  "kernelspec": {
   "display_name": "Python 3 (ipykernel)",
   "language": "python",
   "name": "python3"
  },
  "language_info": {
   "codemirror_mode": {
    "name": "ipython",
    "version": 3
   },
   "file_extension": ".py",
   "mimetype": "text/x-python",
   "name": "python",
   "nbconvert_exporter": "python",
   "pygments_lexer": "ipython3",
   "version": "3.13.5"
  }
 },
 "nbformat": 4,
 "nbformat_minor": 5
}
